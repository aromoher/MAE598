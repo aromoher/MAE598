{
 "cells": [
  {
   "cell_type": "markdown",
   "metadata": {},
   "source": [
    "## Problem 1"
   ]
  },
  {
   "cell_type": "code",
   "execution_count": 4,
   "metadata": {},
   "outputs": [
    {
     "name": "stdout",
     "output_type": "stream",
     "text": [
      "estimation A12 and A21 is: tensor([1.9110, 1.7293], requires_grad=True)\n",
      "final loss is: 0.87836564\n"
     ]
    }
   ],
   "source": [
    "import torch\n",
    "import numpy as np\n",
    "from torch.autograd import Variable\n",
    "import matplotlib.pyplot as plt\n",
    "from IPython import display\n",
    "\n",
    "X1 = np.array([[0.0, 0.1, 0.2, 0.3, 0.4, 0.5, 0.6, 0.7, 0.8, 0.9, 1.0]])\n",
    "X2 = np.flip(X1, axis=1).copy()\n",
    "a = np.array(([[8.07131, 1730.63, 233.426], [7.43155, 1554.679, 240.337]]))\n",
    "T = 20\n",
    "pwat = 10**(a[0, 0]- a[0,1] / (T + a[0,2]))\n",
    "pdio = 10**(a[1, 0]- a[1,1] / (T + a[1,2]))\n",
    "P = np.array([[28.1, 34.4, 36.7, 36.9, 36.8, 36.7, 36.5, 35.4, 32.9, 27.7, 17.5]])\n",
    "P = torch.tensor(P, requires_grad=False, dtype=torch.float32)\n",
    "\n",
    "A = Variable(torch.tensor([1.0, 1.0]), requires_grad=True) #includes initial guess\n",
    "\n",
    "x1 = torch.tensor(X1, requires_grad=False, dtype=torch.float32)\n",
    "x2 = torch.tensor(X2, requires_grad=False, dtype=torch.float32)\n",
    "\n",
    "#simple gradient descent\n",
    "a = 0.0001\n",
    "\n",
    "#fixed number of iterations, need to add termination criteria\n",
    "for i in range(100):\n",
    "    P_pred = x1 * torch.exp(A[0] * (A[1] * x2 / (A[0] * x1 + A[1] * x2 )) ** 2) * pwat + \\\n",
    "        x2 * torch.exp(A[1] * (A[0] * x1 / (A[0] * x1 + A[1] * x2 )) ** 2) * pdio\n",
    "    \n",
    "    loss = (P_pred - P) ** 2\n",
    "    loss = loss.sum() \n",
    "    \n",
    "    loss.backward()\n",
    "    \n",
    "    with torch.no_grad():\n",
    "        A -= a * A.grad #A = A -  a * A.grad\n",
    "        \n",
    "        A.grad.zero_() #to not keep current gradient\n",
    "        \n",
    "        \n",
    "print('estimation A12 and A21 is:' , A)\n",
    "print('final loss is:', loss.data.numpy())\n",
    "\n"
   ]
  },
  {
   "cell_type": "markdown",
   "metadata": {},
   "source": [
    "## Problem 2"
   ]
  }
 ],
 "metadata": {
  "kernelspec": {
   "display_name": "Python 3.10.6 64-bit",
   "language": "python",
   "name": "python3"
  },
  "language_info": {
   "codemirror_mode": {
    "name": "ipython",
    "version": 3
   },
   "file_extension": ".py",
   "mimetype": "text/x-python",
   "name": "python",
   "nbconvert_exporter": "python",
   "pygments_lexer": "ipython3",
   "version": "3.10.6"
  },
  "orig_nbformat": 4,
  "vscode": {
   "interpreter": {
    "hash": "b2d6e2acd905f85a7325b9d62875216e3aaf7a1996b68e1e27c6b306cb99bfde"
   }
  }
 },
 "nbformat": 4,
 "nbformat_minor": 2
}
