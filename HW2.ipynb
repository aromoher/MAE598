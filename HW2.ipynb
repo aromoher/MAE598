{
 "cells": [
  {
   "cell_type": "markdown",
   "metadata": {},
   "source": [
    "# Homework 2"
   ]
  },
  {
   "cell_type": "markdown",
   "metadata": {},
   "source": [
    "## Problem 1\n",
    "\n",
    "\n",
    "**Gradient:**\n",
    "\n",
    "\n",
    "\\begin{equation}\n",
    "    \\begin{bmatrix}\n",
    "        { 4x_1  -  4x_2}\\\\{ -4x_1  +  3x_2  +  1}\n",
    "    \\end{bmatrix}\n",
    "\\end{equation}\n",
    "\n",
    "**Finding stationary point:**\n",
    "\n",
    "    equation 1:\n",
    "$$ 4x_1 - 4x_2 = 0 $$\n",
    "$$ 4x_1 = 4x_2 $$\n",
    "$$ x_1 = x_2 $$\n",
    "    equation 2:\n",
    "$$ -4x_1 + 3x_2 + 1 = 0 $$\n",
    "$$ -1x_1 + 1 = 0 $$\n",
    "$$ x_ 1 = x_2 = 1 $$\n",
    "    stationary point = \n",
    "    \n",
    "\\begin{equation}\n",
    "    \\begin{bmatrix}\n",
    "        { 1 , \\  1}\n",
    "    \\end{bmatrix}\n",
    "\\end{equation}\n",
    "\n",
    "**Hessian:**\n",
    "\\begin{equation}\n",
    "    \\begin{bmatrix}\n",
    "        {{ 4}\\\\ ,{-4}} \\\\{{-4 }\\\\ ,{3}}\n",
    "    \\end{bmatrix}\n",
    "\\end{equation}\n",
    "\n",
    "    det(Hessian) =  -4\n",
    "$$ (4*3) - (-4*-4) = -4 $$\n",
    "determinant is not equal to 0\n",
    "\n",
    "\n",
    "**2nd order Taylor's expansion at the saddle point:**\n",
    "$$ f(x) = f(x_o) + f(x)'*(x-x_o) + 0.5(x-x_o)*f''(x)*(x-x_o) $$\n",
    "$$ f(x_1, x_2) - f(1,1) = [0, 0]*[x_1-1 ; x_2 -1] + 0.5*[x_1-1 , x_2 -1]*[4,-4;-4,3]*[x_1-1 ; x_2 -1] $$\n",
    "$$ f(x_1, x_2) - f(1,1) = 0.5*[(4(x_1-1)-4(x_2-1)), (-4(x_1-1)+3(x_2-1))]*[x_1-1 ; x_2 -1] $$\n",
    "$$ f(x_1, x_2) - f(1,1) = 0.5*[4dx_1-4dx_2, -4dx_1+3dx_2]*[dx_1 ; dx_2] $$\n",
    "$$ f(x_1, x_2) - f(1,1) = 0.5*(dx_1(4dx_1-4dx_2) + dx_2(-4dx_1+3dx_2)) $$\n",
    "$$ f(x_1, x_2) - f(1,1) = 0.5*(4dx_1 - 8dx_1dx_2 + 3dx_2) $$\n",
    "$$ f(x_1, x_2) - f(1,1) = 2dx_1 - 4dx_1dx_2 + 1.5dx_2 $$\n",
    "$$ f(x_1, x_2) - f(1,1) = (dx_1 - 0.5dx_2)*(2dx_1 - 3dx_2) $$\n",
    "$$ f(x_1, x_2) - 0.5 = (dx_1 - 0.5dx_2)*(2dx_1 - 3dx_2) $$\n",
    "\n",
    "a = 1, b = -0.5, c = 2, and d = -3\n",
    "\n",
    "**Proving it is less than 0:**\n",
    "\n",
    "Assuming that x_1 = x_2 = 2, then dx_1 = dx_1 = 1\n",
    "$$ f(x_1, x_2) - 0.5 = (1 - 0.5)*(2 - 3) = (0.5)*(-1) $$ \n",
    "$$  -0.5 < 0 $$\n",
    "Assuming that x_1 = x_2 = 0, then dx_1 = dx_1 = -1\n",
    "$$ f(x_1, x_2) - 0.5 = (-1 +  0.5)*(-2  +  3) = -0.5*1 $$ \n",
    "$$  -0.5 < 0 $$\n",
    "\n",
    "\n",
    "\n",
    "\n",
    "\n"
   ]
  },
  {
   "cell_type": "markdown",
   "metadata": {},
   "source": [
    "## Problem 2"
   ]
  },
  {
   "cell_type": "markdown",
   "metadata": {},
   "source": [
    "**a)**\n",
    "\n",
    "The goal is to find a point along the plane x_1 + 2* x_2 + 3*x_3 = 1 that is closest to (-1,0,1). In order to do that, the distance between the point and the point on the plane must be minimize. That distance can be represented with the equation:\n",
    "$$ d = sqrt((x_1+1)^2 + (x_2)^2 + (x_3-1)^2) $$\n",
    "\n",
    "From the plane function, we can gather that:\n",
    "$$ x_1 = 1 - 2x_2 - 3x_3 $$\n",
    "\n",
    "And substitute that into the distance equation and simplify:\n",
    "$$ d^2 = (-2x_2 -3x_3 + 2)^2 + x_2^2 + (x_3 -1)^2 $$ \n",
    "$$ d^2 = 5x_2^2 + 12x_2x_3 + 10x_3^2 - 8x_2 - 14x_3 + 15 $$ \n",
    "\n",
    "Taking the first derivatives of d^2 and setting them to 0, in order to find the closest point:\n",
    "$$ dd^2/dx_2 = 10x_2 + 12x_3 -8 = 0$$ \n",
    "$$ x_2 = 0.8 - 1.2x_3 $$ \n",
    "\n",
    "\n",
    "$$ dd^2/dx_3 = 12x_2 + 20x_3 -14 $$ \n",
    "$$ x_2 = (7/6) - (5/3)x_3 $$ \n",
    "\n",
    "Finding x_3:\n",
    "$$ 0.8 - 1.2x_3 = (7/6) - (5/3)x_3 $$\n",
    "$$ 0.8 - 1.2x_3 = (7/6) - (5/3)x_3 $$\n",
    "$$ 4.8 - 7.2x_3 = 7 - 10x_3 $$\n",
    "$$ 2.8x_3 = 2.2 $$\n",
    "$$ x_3 = 11/14 = 0.7857142... $$\n",
    "\n",
    "Finding x_2: \n",
    "$$ x_2 = 0.8 - 1.2(11/14) $$\n",
    "$$ x_2 = -1/7 = -0.142857... $$\n",
    "\n",
    "Finding x_1:\n",
    "$$ x_1 = 1 - 2(-1/7) - 3(11/14) $$\n",
    "$$ x_1 = -15/14 = -1.07142... $$\n",
    "\n",
    "**Final point:** \n",
    "\\begin{equation}\n",
    "    \\begin{bmatrix}\n",
    "        { -1.07142}\\\\{ -0.142857}\\\\{ 0.7857142}\n",
    "    \\end{bmatrix}\n",
    "\\end{equation}\n",
    "\n",
    "Confirming this is a local minimum with the second derivatives of d^2:\n",
    "$$ d^2d^2/dx_2^2 = 10 > 0$$\n",
    "$$ d^2d^2/dx_3^2 = 20 > 0$$\n",
    "$$ d^2d^2/dx_3dx_2 = 12  $$\n",
    "$$ d^2d^2/dx_2dx_3 = 12  $$\n",
    "$$ 20*10 - 144 = 56  > 0 $$\n",
    "\n",
    "\n",
    "Yes, this is a convex problem because hessian is p.d.\n",
    "\n",
    "\n",
    "\n"
   ]
  },
  {
   "cell_type": "markdown",
   "metadata": {},
   "source": [
    "**b)**\n",
    "\n",
    "**Gradient Descent:**\n",
    "\n",
    "1) Initial points tested: initial guesses were x2 = x3 = 1\n",
    "\n",
    "2) Corresponding solutions: x1 =  -1.0714285701532518, x2 =  -0.14285696334849396, x3 =  0.7857141656167466\n",
    "\n",
    "3) log-linear convergence plot: printed below"
   ]
  },
  {
   "cell_type": "code",
   "execution_count": 65,
   "metadata": {},
   "outputs": [
    {
     "name": "stdout",
     "output_type": "stream",
     "text": [
      "x1 =  -1.0714285701532518\n",
      "x2 =  -0.14285696334849396\n",
      "x3 =  0.7857141656167466\n"
     ]
    },
    {
     "data": {
      "image/png": "[encoded data removed]",
      "text/plain": [
       "<Figure size 640x480 with 1 Axes>"
      ]
     },
     "metadata": {},
     "output_type": "display_data"
    }
   ],
   "source": [
    "import math\n",
    "x_2_0 = 1 #initial x_2 guess\n",
    "x_3_0 = 1 #initial x_3 guess\n",
    "\n",
    "\n",
    "glength = 1\n",
    "x2_prev = x_2_0\n",
    "x3_prev = x_3_0\n",
    "iter_prev = -1\n",
    "alpha_prev = 0.01 #step size\n",
    "\n",
    "iter_list = []\n",
    "funval_list = []\n",
    "funval1_list = []\n",
    "glength_list = [] \n",
    "alpha_list = []\n",
    "\n",
    "\n",
    "while glength > 0.000001:\n",
    "    alpha = alpha_prev\n",
    "    alpha_list.append(alpha)\n",
    "    \n",
    "    iter = iter_prev + 1\n",
    "    iter_list.append(iter)\n",
    "    iter_prev = iter\n",
    "    \n",
    "    gx_2 = 10*x2_prev + 12*x3_prev - 8 #gradient with respect to x2\n",
    "    gx_3 = 12*x2_prev + 20*x3_prev - 14 #gradient with respect to x3\n",
    "    \n",
    "    glength = math.sqrt((gx_2)**2 + (gx_3)**2) #gradient length, termination criteria\n",
    "    glength_list.append(glength)\n",
    "\n",
    "    x2 = x2_prev - alpha*gx_2\n",
    "    x3 = x3_prev - alpha*gx_3\n",
    "\n",
    "    fun = 5*x2**2 + 12*x2*x3  + 10*x3**2 - 8*x2 -14*x3 + 5 #function value\n",
    "    funval_list.append(fun)\n",
    "    funval1_list.append(fun)\n",
    "    \n",
    "    bottom = 6760*(x2**2) + 20256*x2*x3 - 13984*x2 + 15200*(x3**2) + 7248 - 20992*x3\n",
    "    if bottom == 0:\n",
    "        bottom = 0.000000000000000001\n",
    "    \n",
    "    alpha_prev = (244*(x2**2) + 720*x2*x3 - 496*x2 + 544*(x3**2) + 260 - 752*x3)/bottom\n",
    "\n",
    "    x2_prev = x2\n",
    "    x3_prev = x3\n",
    "\n",
    "\n",
    "fstar = fun \n",
    "x1 = 1 - 2*x2 - 3*x3    \n",
    "\n",
    "print(\"x1 = \" ,  x1)\n",
    "print(\"x2 = \" ,  x2)\n",
    "print(\"x3 = \" ,  x3)\n",
    "\n",
    "\n",
    "#Convergence plot\n",
    "for i in range( len(funval1_list)):\n",
    "    funval1_list[i] = (funval1_list[i] - fstar)\n",
    "\n",
    "import matplotlib.pyplot as plt\n",
    "y = funval1_list\n",
    "x = iter_list\n",
    "plt.plot(x,y)\n",
    "plt.ylabel('log(f_k - f*)')\n",
    "plt.xlabel('iteration (k)')\n",
    "plt.yscale('log')"
   ]
  },
  {
   "cell_type": "markdown",
   "metadata": {},
   "source": [
    "**Newton's Method:**\n",
    "\n",
    "1) Initial points tested\n",
    "\n",
    "2) Corresponding solutions\n",
    "\n",
    "3) log-linear convergence plot"
   ]
  },
  {
   "cell_type": "markdown",
   "metadata": {},
   "source": [
    "## Problem 3"
   ]
  },
  {
   "cell_type": "markdown",
   "metadata": {},
   "source": [
    "## Problem 4"
   ]
  },
  {
   "cell_type": "markdown",
   "metadata": {},
   "source": [
    "## Problem 5"
   ]
  }
 ],
 "metadata": {
  "kernelspec": {
   "display_name": "Python 3.10.6 64-bit",
   "language": "python",
   "name": "python3"
  },
  "language_info": {
   "codemirror_mode": {
    "name": "ipython",
    "version": 3
   },
   "file_extension": ".py",
   "mimetype": "text/x-python",
   "name": "python",
   "nbconvert_exporter": "python",
   "pygments_lexer": "ipython3",
   "version": "3.10.6"
  },
  "orig_nbformat": 4,
  "vscode": {
   "interpreter": {
    "hash": "b2d6e2acd905f85a7325b9d62875216e3aaf7a1996b68e1e27c6b306cb99bfde"
   }
  }
 },
 "nbformat": 4,
 "nbformat_minor": 2
}
