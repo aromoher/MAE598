{
 "cells": [
  {
   "cell_type": "markdown",
   "metadata": {},
   "source": [
    "# Homework 2"
   ]
  },
  {
   "cell_type": "markdown",
   "metadata": {},
   "source": [
    "## Problem 1\n",
    "\n",
    "\n",
    "**Gradient:**\n",
    "\n",
    "\n",
    "\\begin{equation}\n",
    "    \\begin{bmatrix}\n",
    "        { 4x_1  -  4x_2}\\\\{ -4x_1  +  3x_2  +  1}\n",
    "    \\end{bmatrix}\n",
    "\\end{equation}\n",
    "\n",
    "**Finding stationary point:**\n",
    "\n",
    "    equation 1:\n",
    "$$ 4x_1 - 4x_2 = 0 $$\n",
    "$$ 4x_1 = 4x_2 $$\n",
    "$$ x_1 = x_2 $$\n",
    "    equation 2:\n",
    "$$ -4x_1 + 3x_2 + 1 = 0 $$\n",
    "$$ -1x_1 + 1 = 0 $$\n",
    "$$ x_ 1 = x_2 = 1 $$\n",
    "    stationary point = \n",
    "    \n",
    "\\begin{equation}\n",
    "    \\begin{bmatrix}\n",
    "        { 1 , \\  1}\n",
    "    \\end{bmatrix}\n",
    "\\end{equation}\n",
    "\n",
    "**Hessian:**\n",
    "\\begin{equation}\n",
    "    \\begin{bmatrix}\n",
    "        {{ 4}\\\\ ,{-4}} \\\\{{-4 }\\\\ ,{3}}\n",
    "    \\end{bmatrix}\n",
    "\\end{equation}\n",
    "\n",
    "    det(Hessian) =  -4\n",
    "$$ (4*3) - (-4*-4) = -4 $$\n",
    "determinant is not equal to 0\n",
    "\n",
    "\n",
    "**2nd order Taylor's expansion at the saddle point:**\n",
    "$$ f(x) = f(x_o) + f(x)'*(x-x_o) + 0.5(x-x_o)*f''(x)*(x-x_o) $$\n",
    "$$ f(x_1, x_2) - f(1,1) = [0, 0]*[x_1-1 ; x_2 -1] + 0.5*[x_1-1 , x_2 -1]*[4,-4;-4,3]*[x_1-1 ; x_2 -1] $$\n",
    "$$ f(x_1, x_2) - f(1,1) = 0.5*[(4(x_1-1)-4(x_2-1)), (-4(x_1-1)+3(x_2-1))]*[x_1-1 ; x_2 -1] $$\n",
    "$$ f(x_1, x_2) - f(1,1) = 0.5*[4dx_1-4dx_2, -4dx_1+3dx_2]*[dx_1 ; dx_2] $$\n",
    "$$ f(x_1, x_2) - f(1,1) = 0.5*(dx_1(4dx_1-4dx_2) + dx_2(-4dx_1+3dx_2)) $$\n",
    "$$ f(x_1, x_2) - f(1,1) = 0.5*(4dx_1 - 8dx_1dx_2 + 3dx_2) $$\n",
    "$$ f(x_1, x_2) - f(1,1) = 2dx_1 - 4dx_1dx_2 + 1.5dx_2 $$\n",
    "$$ f(x_1, x_2) - f(1,1) = (dx_1 - 0.5dx_2)*(2dx_1 - 3dx_2) $$\n",
    "$$ f(x_1, x_2) - 0.5 = (dx_1 - 0.5dx_2)*(2dx_1 - 3dx_2) $$\n",
    "\n",
    "a = 1, b = -0.5, c = 2, and d = -3\n",
    "\n",
    "**Proving it is less than 0:**\n",
    "\n",
    "Assuming that x_1 = x_2 = 2, then dx_1 = dx_1 = 1\n",
    "$$ f(x_1, x_2) - 0.5 = (1 - 0.5)*(2 - 3) = (0.5)*(-1) $$ \n",
    "$$  -0.5 < 0 $$\n",
    "Assuming that x_1 = x_2 = 0, then dx_1 = dx_1 = -1\n",
    "$$ f(x_1, x_2) - 0.5 = (-1 +  0.5)*(-2  +  3) = -0.5*1 $$ \n",
    "$$  -0.5 < 0 $$\n",
    "\n",
    "\n",
    "\n",
    "\n",
    "\n"
   ]
  },
  {
   "cell_type": "markdown",
   "metadata": {},
   "source": [
    "## Problem 2"
   ]
  },
  {
   "cell_type": "markdown",
   "metadata": {},
   "source": [
    "**a)**\n",
    "\n",
    "The goal is to find a point along the plane x_1 + 2* x_2 + 3*x_3 = 1 that is closest to (-1,0,1). In order to do that, the distance between the point and the point on the plane must be minimize. That distance can be represented with the equation:\n",
    "$$ d = sqrt((x_1+1)^2 + (x_2)^2 + (x_3-1)^2) $$\n",
    "\n",
    "From the plane function, we can gather that:\n",
    "$$ x_1 = 1 - 2x_2 - 3x_3 $$\n",
    "\n",
    "And substitute that into the distance equation and simplify:\n",
    "$$ d^2 = (-2x_2 -3x_3 + 2)^2 + x_2^2 + (x_3 -1)^2 $$ \n",
    "$$ d^2 = 5x_2^2 + 12x_2x_3 + 10x_3^2 - 8x_2 - 14x_3 + 15 $$ \n",
    "\n",
    "Taking the first derivatives of d^2 and setting them to 0, in order to find the closest point:\n",
    "$$ dd^2/dx_2 = 10x_2 + 12x_3 -8 = 0$$ \n",
    "$$ x_2 = 0.8 - 1.2x_3 $$ \n",
    "\n",
    "\n",
    "$$ dd^2/dx_3 = 12x_2 + 20x_3 -14 $$ \n",
    "$$ x_2 = (7/6) - (5/3)x_3 $$ \n",
    "\n",
    "Finding x_3:\n",
    "$$ 0.8 - 1.2x_3 = (7/6) - (5/3)x_3 $$\n",
    "$$ 0.8 - 1.2x_3 = (7/6) - (5/3)x_3 $$\n",
    "$$ 4.8 - 7.2x_3 = 7 - 10x_3 $$\n",
    "$$ 2.8x_3 = 2.2 $$\n",
    "$$ x_3 = 11/14 = 0.7857142... $$\n",
    "\n",
    "Finding x_2: \n",
    "$$ x_2 = 0.8 - 1.2(11/14) $$\n",
    "$$ x_2 = -1/7 = -0.142857... $$\n",
    "\n",
    "Finding x_1:\n",
    "$$ x_1 = 1 - 2(-1/7) - 3(11/14) $$\n",
    "$$ x_1 = -15/14 = -1.07142... $$\n",
    "\n",
    "**Final point:** \n",
    "\\begin{equation}\n",
    "    \\begin{bmatrix}\n",
    "        { -1.07142}\\\\{ -0.142857}\\\\{ 0.7857142}\n",
    "    \\end{bmatrix}\n",
    "\\end{equation}\n",
    "\n",
    "Confirming this is a local minimum with the second derivatives of d^2:\n",
    "$$ d^2d^2/dx_2^2 = 10 > 0$$\n",
    "$$ d^2d^2/dx_3^2 = 20 > 0$$\n",
    "$$ d^2d^2/dx_3dx_2 = 0  $$\n",
    "$$ d^2d^2/dx_2dx_3 = 0  $$\n",
    "$$ 20*10 - 0 = 200 > 0 $$\n",
    "\n",
    "\n",
    "Yes, this is a convex problem because hessian is p.d.\n",
    "\n",
    "\n",
    "\n"
   ]
  },
  {
   "cell_type": "markdown",
   "metadata": {},
   "source": [
    "## Problem 3"
   ]
  },
  {
   "cell_type": "markdown",
   "metadata": {},
   "source": [
    "## Problem 4"
   ]
  },
  {
   "cell_type": "markdown",
   "metadata": {},
   "source": [
    "## Problem 5"
   ]
  }
 ],
 "metadata": {
  "language_info": {
   "name": "python"
  },
  "orig_nbformat": 4
 },
 "nbformat": 4,
 "nbformat_minor": 2
}
