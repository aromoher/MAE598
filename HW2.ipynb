{
 "cells": [
  {
   "cell_type": "markdown",
   "metadata": {},
   "source": [
    "# Homework 2"
   ]
  },
  {
   "cell_type": "markdown",
   "metadata": {},
   "source": [
    "## Problem 1\n",
    "\n",
    "\n",
    "**Gradient:**\n",
    "\n",
    "\n",
    "\\begin{equation}\n",
    "    \\begin{bmatrix}\n",
    "        { 4x_1  -  4x_2}\\\\{ -4x_1  +  3x_2  +  1}\n",
    "    \\end{bmatrix}\n",
    "\\end{equation}\n",
    "\n",
    "**Finding stationary point:**\n",
    "\n",
    "    equation 1:\n",
    "$$ 4x_1 - 4x_2 = 0 $$\n",
    "$$ 4x_1 = 4x_2 $$\n",
    "$$ x_1 = x_2 $$\n",
    "    equation 2:\n",
    "$$ -4x_1 + 3x_2 + 1 = 0 $$\n",
    "$$ -1x_1 + 1 = 0 $$\n",
    "$$ x_ 1 = x_2 = 1 $$\n",
    "    stationary point = \n",
    "    \n",
    "\\begin{equation}\n",
    "    \\begin{bmatrix}\n",
    "        { 1 , \\  1}\n",
    "    \\end{bmatrix}\n",
    "\\end{equation}\n",
    "\n",
    "**Hessian:**\n",
    "\\begin{equation}\n",
    "    \\begin{bmatrix}\n",
    "        {{ 4}\\\\ ,{-4}} \\\\{{-4 }\\\\ ,{3}}\n",
    "    \\end{bmatrix}\n",
    "\\end{equation}\n",
    "\n",
    "    det(Hessian) =  -4\n",
    "$$ (4*3) - (-4*-4) = -4 $$\n",
    "\n",
    "\n",
    "**2nd order Taylor's expansion at the saddle point:**\n",
    "$$ f(x) = f(x_o) + f(x)'*(x-x_o) + 0.5(x-x_o)*f''(x)*(x-x_o) $$\n",
    "$$ f(x_1, x_2) - f(1,1) = [0, 0]*[x_1-1 ; x_2 -1] + 0.5*[x_1-1 , x_2 -1]*[4,-4;-4,3]*[x_1-1 ; x_2 -1] $$\n",
    "$$ f(x_1, x_2) - f(1,1) = 0.5*[(4(x_1-1)-4(x_2-1)), (-4(x_1-1)+3(x_2-1))]*[x_1-1 ; x_2 -1] $$\n",
    "$$ f(x_1, x_2) - f(1,1) = 0.5*[4dx_1-4dx_2, -4dx_1+3dx_2]*[dx_1 ; dx_2] $$\n",
    "$$ f(x_1, x_2) - f(1,1) = 0.5*(dx_1(4dx_1-4dx_2) + dx_2(-4dx_1+3dx_2)) $$\n",
    "$$ f(x_1, x_2) - f(1,1) = 0.5*(4dx_1 - 8dx_1dx_2 + 3dx_2) $$\n",
    "$$ f(x_1, x_2) - f(1,1) = 2dx_1 - 4dx_1dx_2 + 1.5dx_2 $$\n",
    "$$ f(x_1, x_2) - f(1,1) = (dx_1 - 0.5dx_2)*(2dx_1 - 3dx_2) $$\n",
    "$$ f(x_1, x_2) - 0.5 = (dx_1 - 0.5dx_2)*(2dx_1 - 3dx_2) $$\n",
    "\n",
    "a = 1, b = -0.5, c = 2, and d = -3\n",
    "\n",
    "**Proving it is less than 0:**\n",
    "\n",
    "Assuming that x_1 = x_2 = 2, then dx_1 = dx_1 = 1\n",
    "$$ f(x_1, x_2) - 0.5 = (1 - 0.5)*(2 - 3) = (0.5)*(-1) $$ \n",
    "$$  -0.5 < 0 $$\n",
    "\n",
    "\n",
    "\n",
    "\n",
    "\n"
   ]
  },
  {
   "cell_type": "markdown",
   "metadata": {},
   "source": [
    "## Problem 2"
   ]
  },
  {
   "cell_type": "markdown",
   "metadata": {},
   "source": [
    "## Problem 3"
   ]
  },
  {
   "cell_type": "markdown",
   "metadata": {},
   "source": [
    "## Problem 4"
   ]
  },
  {
   "cell_type": "markdown",
   "metadata": {},
   "source": [
    "## Problem 5"
   ]
  }
 ],
 "metadata": {
  "language_info": {
   "name": "python"
  },
  "orig_nbformat": 4
 },
 "nbformat": 4,
 "nbformat_minor": 2
}
