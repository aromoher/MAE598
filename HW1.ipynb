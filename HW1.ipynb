{
 "cells": [
  {
   "cell_type": "markdown",
   "metadata": {},
   "source": [
    "# Homework 1"
   ]
  },
  {
   "cell_type": "markdown",
   "metadata": {},
   "source": [
    "**Problem 1**"
   ]
  },
  {
   "cell_type": "code",
   "execution_count": 41,
   "metadata": {},
   "outputs": [
    {
     "name": "stdout",
     "output_type": "stream",
     "text": [
      "     fun: 1.4857142860761767\n",
      "     jac: array([-0.2285358 , -0.80003661,  1.02857247,  1.02856152, -1.94286604])\n",
      " message: 'Optimization terminated successfully'\n",
      "    nfev: 31\n",
      "     nit: 5\n",
      "    njev: 5\n",
      "  status: 0\n",
      " success: True\n",
      "       x: array([-0.08570093,  0.02856698, -1.4571468 ,  1.51428075,  0.02856698])\n"
     ]
    }
   ],
   "source": [
    "#Importing tools\n",
    "import numpy as np\n",
    "#pip install scipy\n",
    "import scipy\n",
    "from scipy.optimize import minimize\n",
    "#from scipy.optimize import Bounds, tried this didn't work\n",
    "#from scipy.optimize import LinearConstraint, tried this didn't work\n",
    "\n",
    "#Defining what to minimize\n",
    "def problemEq(x):\n",
    "    x1 = x[0]\n",
    "    x2 = x[1]\n",
    "    x3 = x[2]\n",
    "    x4 = x[3]\n",
    "    x5 = x[4]\n",
    "    return ((x1-x2)*(x1-x2)) + ((x2-x3-2)*(x2-x3-2)) + ((x4-1)*(x4-1)) + ((x5-1)*(x5-1))\n",
    "\n",
    "#Defining \"subject to\"\n",
    "lims = (-10, 10)\n",
    "MaxMin = (lims, lims, lims, lims, lims)\n",
    "\n",
    "def subject1(x) :\n",
    "    return x[0] + 3*(x[1])\n",
    "def subject2(x) :\n",
    "    return x[2] + x[3] - (2*x[4])\n",
    "def subject3(x) :\n",
    "    return x[1] - x[4]\n",
    "\n",
    "#Constra = LinearConstraint(), tried this and failed\n",
    "sub1 = {'type': 'eq', 'fun': subject1}\n",
    "sub2 = {'type': 'eq', 'fun': subject2}\n",
    "sub3 = {'type': 'eq', 'fun': subject3}\n",
    "Constra = [sub1, sub2, sub3]\n",
    "\n",
    "#Defining initial gueses\n",
    "#x0 = [-10, -10, 1, 10, 10], these were my first initial conditions, changed them according to solution I was getting just to experiment and got the same thing\n",
    "x0 = [-1,0,-2,2,0 ]\n",
    "\n",
    "#Defining solution\n",
    "soltn = minimize(problemEq, x0, method='SLSQP' , bounds= MaxMin, constraints=Constra)\n",
    "print(soltn)"
   ]
  },
  {
   "cell_type": "markdown",
   "metadata": {},
   "source": [
    "**Problem 2**\n",
    "\n",
    "**(a)** $$f(x) = bT*x + xT*A*x$$\n",
    "The gradient with respect f(x) is the first derivative: $$g(x) = [b + 2Ax]$$\n",
    "\n",
    "The Hessian of f(x) is the second derivative of f(x): $$H(x) = [2A]$$\n",
    "\n",
    "**(b)**\n",
    "$$ f(0) = 0  $$\n",
    "$$ G(0) = b $$\n",
    "$$ H(0) = 2A $$\n",
    "\n",
    "First order Taylor's approximation of f(x) at x=0:\n",
    "$$ f(x) = f(x0) + f'(x0)*(x - x0) $$\n",
    "$$ f(x) = 0 + b*(x-0) $$\n",
    "$$ f(x) =bx $$\n",
    "\n",
    "Second order Taylor's approximation of f(x) at x=0:\n",
    "$$ f(x) = f(x0) + f'(x0)*(x - x0) + (1/2)*f''(x0)*(x-x0)^2 $$\n",
    "$$ f(x) = bx + (1/2)*f''(x0)*(x-x0)^2 $$\n",
    "$$ f(x) = bx + (1/2)*2A*(x^2) $$\n",
    "$$ f(x) = bx + Ax^2 $$\n",
    "These approximations are not exact, but rather an approximation of the taylors expansion which goes towards infinity.\n",
    "\n",
    "**(c)** For A to be positive definite, the eigen values have to be positive.\n",
    "\n",
    "**(d)** For A to be full rank, all columns/vectors in A must be linearly independent.\n",
    "\n",
    "**(e)**  b has to be within the column space of A and b has to be orthogonal to y."
   ]
  },
  {
   "cell_type": "markdown",
   "metadata": {},
   "source": [
    "**Problem 3**\n",
    "\n",
    "Minimum cost to satisfy nutrition needs per month:\n",
    "\n",
    "Constraint 1: the total of one nutrient in each food must be greater than or equal to the necessary amount\n",
    "Assuming: there is the necessary amount of nutrients available\n",
    "\n",
    "**Minimize**: C(a,b,c) = b*aT*c (a is transposed and C is the total cost)\n",
    "\n",
    "**Subject to**:\n",
    "\n",
    "x*a >= b (where x is row of i number of ones)\n",
    "\n",
    "i = 1,2,...,N\n",
    "\n",
    "j = 1,2,...,M\n",
    "\n",
    "\n"
   ]
  }
 ],
 "metadata": {
  "kernelspec": {
   "display_name": "Python 3.10.6 64-bit",
   "language": "python",
   "name": "python3"
  },
  "language_info": {
   "codemirror_mode": {
    "name": "ipython",
    "version": 3
   },
   "file_extension": ".py",
   "mimetype": "text/x-python",
   "name": "python",
   "nbconvert_exporter": "python",
   "pygments_lexer": "ipython3",
   "version": "3.10.6"
  },
  "orig_nbformat": 4,
  "vscode": {
   "interpreter": {
    "hash": "b2d6e2acd905f85a7325b9d62875216e3aaf7a1996b68e1e27c6b306cb99bfde"
   }
  }
 },
 "nbformat": 4,
 "nbformat_minor": 2
}
