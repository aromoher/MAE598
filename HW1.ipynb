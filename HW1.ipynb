{
 "cells": [
  {
   "cell_type": "markdown",
   "metadata": {},
   "source": [
    "Problem 1\n",
    "Minimize: (x1 - x2)^2 + (x2 - x3 - 2)^2 + (x4 - 1)^2 + (x5 -1 )^2\n",
    "Subject to: x1 + 3*x2 = 0\n",
    "x3 + x4 - 2*x5 = 0\n",
    "x2 - x5 = 0\n",
    "-10 <= xi <= 10, i = 1,...,5"
   ]
  },
  {
   "cell_type": "code",
   "execution_count": 2,
   "metadata": {},
   "outputs": [],
   "source": [
    "#Importing tools\n",
    "#pip install scipy\n",
    "import scipy\n",
    "from scipy.optimize import minimize\n",
    "from scipy.optimize import Bounds\n",
    "from scipy.optimize import LinearConstraint\n",
    "\n",
    "#Defining what to minimize\n",
    "def problemEq(x):\n",
    "    x1 = x[0]\n",
    "    x2 = x[1]\n",
    "    x3 = x[2]\n",
    "    x4 = x[3]\n",
    "    x5 = x[4]\n",
    "    return (x1-x2)^2 + (x2-x3-2)^2 + (x4-1)^2 + (x5-1)^2\n",
    "\n",
    "#Defining \"subject to\"\n",
    "MaxMin = Bounds([-10,10],[-10,10],[-10,10],[-10,10],[-10,10])\n",
    "Constra = LinearConstraint()\n",
    "\n",
    "#Defining initial gueses\n",
    "\n",
    "#Defining solution\n",
    "soln = minimize(problemEq, method='SLSQP', bounds=MaxMin, constraints=Constra)\n",
    "print(soln)"
   ]
  },
  {
   "cell_type": "code",
   "execution_count": null,
   "metadata": {},
   "outputs": [],
   "source": []
  }
 ],
 "metadata": {
  "kernelspec": {
   "display_name": "Python 3.10.6 64-bit",
   "language": "python",
   "name": "python3"
  },
  "language_info": {
   "codemirror_mode": {
    "name": "ipython",
    "version": 3
   },
   "file_extension": ".py",
   "mimetype": "text/x-python",
   "name": "python",
   "nbconvert_exporter": "python",
   "pygments_lexer": "ipython3",
   "version": "3.10.6"
  },
  "orig_nbformat": 4,
  "vscode": {
   "interpreter": {
    "hash": "b2d6e2acd905f85a7325b9d62875216e3aaf7a1996b68e1e27c6b306cb99bfde"
   }
  }
 },
 "nbformat": 4,
 "nbformat_minor": 2
}
