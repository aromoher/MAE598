{
 "cells": [
  {
   "cell_type": "markdown",
   "metadata": {},
   "source": [
    "# Homework 5"
   ]
  },
  {
   "cell_type": "markdown",
   "metadata": {},
   "source": [
    "## Problem 1\n",
    "\n",
    "SQP"
   ]
  },
  {
   "cell_type": "code",
   "execution_count": 8,
   "metadata": {},
   "outputs": [
    {
     "name": "stdout",
     "output_type": "stream",
     "text": [
      "tensor([[6.],\n",
      "        [2.]])\n",
      "tensor([[6., 2.]])\n"
     ]
    }
   ],
   "source": [
    "#pip install qpsolvers[open_source_solvers]\n",
    "\n",
    "import torch as t\n",
    "\n",
    "#Initializing x\n",
    "x = t.tensor([[1.], [1.]]) # x[0] = x1 and x[1] = x2\n",
    "\n",
    "#Initializing mu and W just to get calculation started, calculated with initial conditions\n",
    "u = t.tensor([[6.], [2.]]) # u[0] = u1 and u[1] = u2\n",
    "\n",
    "#Calculating Lagrange Gradient\n",
    "gL = t.tensor([[2*x[0]], [2*x[1] -6]]) + t.matmul( t.tensor([[-2., 5.], [2*x[1], (2*x[1] - 2) ]])   , u  )\n",
    "\n",
    "#While loop\n",
    "e = 0.003\n",
    "while t.norm(gL) > e:\n",
    "    #Solve for s(k), u(k+1) using QP\n",
    "    #NOTE: ADD HOW I DID THIS ---------------------------------------------------------------------------------------------------------------------------------------------------- \n",
    "    g = t.tensor([[(x[1]**2 - 2*x[0])], [((x[1] - 1)**2 + 5*x[0] -15)]])\n",
    "    A = t.tensor([[-2., 5.], [2*x[1], (2*x[1] - 2) ]])\n",
    "    A_inv = (-14*x[1] + 4)**(-1) * t.tensor([[(2*x[1] - 2), -5.], [-2*x[1], -2. ]])\n",
    "    W = t.tensor([[2., 0.], [0., (2 + 2*u[0] + 2*u[1])]]) #DELETE AFTER BFGS, but put once in initialization ---------------------------------------------------------------------\n",
    "    fx = t.tensor([[2*x[0]], [(2*x[1] - 6)]])\n",
    "    \n",
    "    s_dum = t.matmul(-t.transpose(g, 0, 1),A_inv)\n",
    "    s = t.transpose(s_dum, 0, 1) #s(k)\n",
    "    \n",
    "    u_first = fx + t.matmul(W, s)\n",
    "    u_dum = t.matmul(-t.transpose(u_first, 0, 1),A_inv)\n",
    "    u = t.transpose(u_dum, 0, 1) #mu(k+1)\n",
    "    \n",
    "    #Line search, alpha(k), merit function and armijo line search\n",
    "    alpha = 1 #for now\n",
    "    \n",
    "    #x(k+1) = x(k) + alpha(k)*s(k)\n",
    "    x_dum = x + alpha*s\n",
    "    x = x_dum\n",
    "    \n",
    "    #W(k+1), BFGS\n",
    "    \n",
    "    \n",
    "    #Calculate Lagrange Gradient\n",
    "    gL = t.tensor([[2*x[0]], [2*x[1] -6]]) + t.matmul( t.tensor([[-2., 5.], [2*x[1], (2*x[1] - 2) ]])   , u  ) #need to update x and mu above\n"
   ]
  },
  {
   "cell_type": "markdown",
   "metadata": {},
   "source": [
    "## Problem 2\n",
    "\n",
    "moon lander"
   ]
  }
 ],
 "metadata": {
  "kernelspec": {
   "display_name": "Python 3.10.6 64-bit",
   "language": "python",
   "name": "python3"
  },
  "language_info": {
   "codemirror_mode": {
    "name": "ipython",
    "version": 3
   },
   "file_extension": ".py",
   "mimetype": "text/x-python",
   "name": "python",
   "nbconvert_exporter": "python",
   "pygments_lexer": "ipython3",
   "version": "3.10.6"
  },
  "orig_nbformat": 4,
  "vscode": {
   "interpreter": {
    "hash": "b2d6e2acd905f85a7325b9d62875216e3aaf7a1996b68e1e27c6b306cb99bfde"
   }
  }
 },
 "nbformat": 4,
 "nbformat_minor": 2
}
