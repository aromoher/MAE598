{
 "cells": [
  {
   "cell_type": "markdown",
   "metadata": {},
   "source": [
    "# Homework 5"
   ]
  },
  {
   "cell_type": "markdown",
   "metadata": {},
   "source": [
    "## Problem 1\n",
    "\n",
    "SQP"
   ]
  },
  {
   "cell_type": "code",
   "execution_count": null,
   "metadata": {},
   "outputs": [],
   "source": [
    "#pip install qpsolvers[open_source_solvers]\n",
    "import numpy as np\n",
    "from qpsolvers import solve_qp\n",
    "\n",
    "\n",
    "x1 = 0\n",
    "x2 = 0\n",
    "\n",
    "#BFGS\n",
    "#Armijo Line Search\n",
    "#QP Solver\n",
    "\n",
    "#Got this QS from: https://github.com/stephane-caron/qpsolvers -------------------------------------------------------------------------\n",
    "#Need to edit:\n",
    "M = np.array([[1.0, 2.0, 0.0], [-8.0, 3.0, 2.0], [0.0, 1.0, 1.0]])\n",
    "P = M.T @ M  # this is a positive definite matrix\n",
    "q = np.array([3.0, 2.0, 3.0]) @ M\n",
    "G = np.array([[1.0, 2.0, 1.0], [2.0, 0.0, 1.0], [-1.0, 2.0, -1.0]])\n",
    "h = np.array([3.0, 2.0, -2.0])\n",
    "A = np.array([1.0, 1.0, 1.0])\n",
    "b = np.array([1.0])\n",
    "\n",
    "x = solve_qp(P, q, G, h, A, b, solver=\"proxqp\")\n",
    "print(f\"QP solution: x = {x}\")\n",
    "\n",
    "# --------------------------------------------------------------------------------------------------------------------------------------\n",
    "\n"
   ]
  },
  {
   "cell_type": "markdown",
   "metadata": {},
   "source": [
    "## Problem 2\n",
    "\n",
    "moon lander"
   ]
  }
 ],
 "metadata": {
  "language_info": {
   "name": "python"
  },
  "orig_nbformat": 4
 },
 "nbformat": 4,
 "nbformat_minor": 2
}
