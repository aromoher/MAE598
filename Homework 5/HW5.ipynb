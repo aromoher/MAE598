{
 "cells": [
  {
   "cell_type": "markdown",
   "metadata": {},
   "source": [
    "# Homework 5"
   ]
  },
  {
   "cell_type": "markdown",
   "metadata": {},
   "source": [
    "## Problem 1\n",
    "\n",
    "SQP"
   ]
  },
  {
   "cell_type": "code",
   "execution_count": 35,
   "metadata": {},
   "outputs": [
    {
     "ename": "SolverNotFound",
     "evalue": "solver 'osqp' is not in the list [] of available solvers",
     "output_type": "error",
     "traceback": [
      "\u001b[1;31m---------------------------------------------------------------------------\u001b[0m",
      "\u001b[1;31mKeyError\u001b[0m                                  Traceback (most recent call last)",
      "File \u001b[1;32mc:\\Users\\19282\\AppData\\Local\\Programs\\Python\\Python310\\lib\\site-packages\\qpsolvers\\solve_qp.py:147\u001b[0m, in \u001b[0;36msolve_qp\u001b[1;34m(P, q, G, h, A, b, lb, ub, solver, initvals, sym_proj, verbose, **kwargs)\u001b[0m\n\u001b[0;32m    146\u001b[0m \u001b[39mtry\u001b[39;00m:\n\u001b[1;32m--> 147\u001b[0m     \u001b[39mreturn\u001b[39;00m solve_function[solver](P, q, G, h, A, b, lb, ub, \u001b[39m*\u001b[39m\u001b[39m*\u001b[39mkwargs)\n\u001b[0;32m    148\u001b[0m \u001b[39mexcept\u001b[39;00m \u001b[39mKeyError\u001b[39;00m \u001b[39mas\u001b[39;00m e:\n",
      "\u001b[1;31mKeyError\u001b[0m: 'osqp'",
      "\nThe above exception was the direct cause of the following exception:\n",
      "\u001b[1;31mSolverNotFound\u001b[0m                            Traceback (most recent call last)",
      "\u001b[1;32mc:\\Users\\19282\\Desktop\\MAE598\\MAE598\\Homework 5\\HW5.ipynb Cell 3\u001b[0m in \u001b[0;36m<cell line: 27>\u001b[1;34m()\u001b[0m\n\u001b[0;32m     <a href='vscode-notebook-cell:/c%3A/Users/19282/Desktop/MAE598/MAE598/Homework%205/HW5.ipynb#W5sZmlsZQ%3D%3D?line=23'>24</a>\u001b[0m A \u001b[39m=\u001b[39m array([\u001b[39m1.\u001b[39m, \u001b[39m1.\u001b[39m, \u001b[39m1.\u001b[39m])\n\u001b[0;32m     <a href='vscode-notebook-cell:/c%3A/Users/19282/Desktop/MAE598/MAE598/Homework%205/HW5.ipynb#W5sZmlsZQ%3D%3D?line=24'>25</a>\u001b[0m b \u001b[39m=\u001b[39m array([\u001b[39m1.\u001b[39m])\n\u001b[1;32m---> <a href='vscode-notebook-cell:/c%3A/Users/19282/Desktop/MAE598/MAE598/Homework%205/HW5.ipynb#W5sZmlsZQ%3D%3D?line=26'>27</a>\u001b[0m x \u001b[39m=\u001b[39m solve_qp(P, q, G, h, A, b, solver\u001b[39m=\u001b[39;49m\u001b[39m\"\u001b[39;49m\u001b[39mosqp\u001b[39;49m\u001b[39m\"\u001b[39;49m)\n\u001b[0;32m     <a href='vscode-notebook-cell:/c%3A/Users/19282/Desktop/MAE598/MAE598/Homework%205/HW5.ipynb#W5sZmlsZQ%3D%3D?line=27'>28</a>\u001b[0m \u001b[39mprint\u001b[39m(\u001b[39mf\u001b[39m\u001b[39m\"\u001b[39m\u001b[39mQP solution: x = \u001b[39m\u001b[39m{\u001b[39;00mx\u001b[39m}\u001b[39;00m\u001b[39m\"\u001b[39m)\n",
      "File \u001b[1;32mc:\\Users\\19282\\AppData\\Local\\Programs\\Python\\Python310\\lib\\site-packages\\qpsolvers\\solve_qp.py:149\u001b[0m, in \u001b[0;36msolve_qp\u001b[1;34m(P, q, G, h, A, b, lb, ub, solver, initvals, sym_proj, verbose, **kwargs)\u001b[0m\n\u001b[0;32m    147\u001b[0m     \u001b[39mreturn\u001b[39;00m solve_function[solver](P, q, G, h, A, b, lb, ub, \u001b[39m*\u001b[39m\u001b[39m*\u001b[39mkwargs)\n\u001b[0;32m    148\u001b[0m \u001b[39mexcept\u001b[39;00m \u001b[39mKeyError\u001b[39;00m \u001b[39mas\u001b[39;00m e:\n\u001b[1;32m--> 149\u001b[0m     \u001b[39mraise\u001b[39;00m SolverNotFound(\n\u001b[0;32m    150\u001b[0m         \u001b[39mf\u001b[39m\u001b[39m\"\u001b[39m\u001b[39msolver \u001b[39m\u001b[39m'\u001b[39m\u001b[39m{\u001b[39;00msolver\u001b[39m}\u001b[39;00m\u001b[39m'\u001b[39m\u001b[39m is not in the list \u001b[39m\u001b[39m\"\u001b[39m\n\u001b[0;32m    151\u001b[0m         \u001b[39mf\u001b[39m\u001b[39m\"\u001b[39m\u001b[39m{\u001b[39;00mavailable_solvers\u001b[39m}\u001b[39;00m\u001b[39m of available solvers\u001b[39m\u001b[39m\"\u001b[39m\n\u001b[0;32m    152\u001b[0m     ) \u001b[39mfrom\u001b[39;00m \u001b[39me\u001b[39;00m\n",
      "\u001b[1;31mSolverNotFound\u001b[0m: solver 'osqp' is not in the list [] of available solvers"
     ]
    }
   ],
   "source": [
    "#pip install qpsolvers[open_source_solvers]\n",
    "import numpy as np\n",
    "from numpy import array, dot\n",
    "import qpsolvers\n",
    "from qpsolvers import available_solvers\n",
    "from qpsolvers import solve_qp\n",
    "\n",
    "\n",
    "x1 = 0\n",
    "x2 = 0\n",
    "#BFGS\n",
    "#Armijo Line Search\n",
    "#QP Solver\n",
    "\n",
    "#Got this QS from: https://github.com/stephane-caron/qpsolvers -------------------------------------------------------------------------\n",
    "#solver information: https://scaron.info/doc/qpsolvers/quadratic-programming.html#qpsolvers.solve_qp\n",
    "#Need to edit:\n",
    "\n",
    "M = array([[1., 2., 0.], [-8., 3., 2.], [0., 1., 1.]])\n",
    "P = dot(M.T, M)  # quick way to build a symmetric matrix\n",
    "q = dot(array([3., 2., 3.]), M).reshape((3,))\n",
    "G = array([[1., 2., 1.], [2., 0., 1.], [-1., 2., -1.]])\n",
    "h = array([3., 2., -2.]).reshape((3,))\n",
    "A = array([1., 1., 1.])\n",
    "b = array([1.])\n",
    "\n",
    "x = solve_qp(P, q, G, h, A, b, solver=\"osqp\")\n",
    "print(f\"QP solution: x = {x}\")\n",
    "# --------------------------------------------------------------------------------------------------------------------------------------\n",
    "\n"
   ]
  },
  {
   "cell_type": "markdown",
   "metadata": {},
   "source": [
    "## Problem 2\n",
    "\n",
    "moon lander"
   ]
  }
 ],
 "metadata": {
  "kernelspec": {
   "display_name": "Python 3.10.6 64-bit",
   "language": "python",
   "name": "python3"
  },
  "language_info": {
   "codemirror_mode": {
    "name": "ipython",
    "version": 3
   },
   "file_extension": ".py",
   "mimetype": "text/x-python",
   "name": "python",
   "nbconvert_exporter": "python",
   "pygments_lexer": "ipython3",
   "version": "3.10.6"
  },
  "orig_nbformat": 4,
  "vscode": {
   "interpreter": {
    "hash": "b2d6e2acd905f85a7325b9d62875216e3aaf7a1996b68e1e27c6b306cb99bfde"
   }
  }
 },
 "nbformat": 4,
 "nbformat_minor": 2
}
