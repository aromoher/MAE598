{
 "cells": [
  {
   "cell_type": "markdown",
   "metadata": {},
   "source": [
    "# Homework 5"
   ]
  },
  {
   "cell_type": "markdown",
   "metadata": {},
   "source": [
    "## Problem 1\n",
    "\n",
    "SQP"
   ]
  },
  {
   "cell_type": "code",
   "execution_count": 9,
   "metadata": {},
   "outputs": [
    {
     "ename": "KeyboardInterrupt",
     "evalue": "",
     "output_type": "error",
     "traceback": [
      "\u001b[1;31m---------------------------------------------------------------------------\u001b[0m",
      "\u001b[1;31mKeyboardInterrupt\u001b[0m                         Traceback (most recent call last)",
      "\u001b[1;32mc:\\Users\\19282\\Desktop\\MAE598\\MAE598\\Homework 5\\HW5.ipynb Cell 3\u001b[0m in \u001b[0;36m<cell line: 17>\u001b[1;34m()\u001b[0m\n\u001b[0;32m     <a href='vscode-notebook-cell:/c%3A/Users/19282/Desktop/MAE598/MAE598/Homework%205/HW5.ipynb#W2sZmlsZQ%3D%3D?line=20'>21</a>\u001b[0m A \u001b[39m=\u001b[39m t\u001b[39m.\u001b[39mtensor([[\u001b[39m-\u001b[39m\u001b[39m2.\u001b[39m, \u001b[39m5.\u001b[39m], [\u001b[39m2\u001b[39m\u001b[39m*\u001b[39mx[\u001b[39m1\u001b[39m], (\u001b[39m2\u001b[39m\u001b[39m*\u001b[39mx[\u001b[39m1\u001b[39m] \u001b[39m-\u001b[39m \u001b[39m2\u001b[39m) ]])\n\u001b[0;32m     <a href='vscode-notebook-cell:/c%3A/Users/19282/Desktop/MAE598/MAE598/Homework%205/HW5.ipynb#W2sZmlsZQ%3D%3D?line=21'>22</a>\u001b[0m A_inv \u001b[39m=\u001b[39m (\u001b[39m-\u001b[39m\u001b[39m14\u001b[39m\u001b[39m*\u001b[39mx[\u001b[39m1\u001b[39m] \u001b[39m+\u001b[39m \u001b[39m4\u001b[39m)\u001b[39m*\u001b[39m\u001b[39m*\u001b[39m(\u001b[39m-\u001b[39m\u001b[39m1\u001b[39m) \u001b[39m*\u001b[39m t\u001b[39m.\u001b[39mtensor([[(\u001b[39m2\u001b[39m\u001b[39m*\u001b[39mx[\u001b[39m1\u001b[39m] \u001b[39m-\u001b[39m \u001b[39m2\u001b[39m), \u001b[39m-\u001b[39m\u001b[39m5.\u001b[39m], [\u001b[39m-\u001b[39m\u001b[39m2\u001b[39m\u001b[39m*\u001b[39mx[\u001b[39m1\u001b[39m], \u001b[39m-\u001b[39m\u001b[39m2.\u001b[39m ]])\n\u001b[1;32m---> <a href='vscode-notebook-cell:/c%3A/Users/19282/Desktop/MAE598/MAE598/Homework%205/HW5.ipynb#W2sZmlsZQ%3D%3D?line=22'>23</a>\u001b[0m fx \u001b[39m=\u001b[39m t\u001b[39m.\u001b[39;49mtensor([[\u001b[39m2\u001b[39;49m\u001b[39m*\u001b[39;49mx[\u001b[39m0\u001b[39;49m]], [(\u001b[39m2\u001b[39;49m\u001b[39m*\u001b[39;49mx[\u001b[39m1\u001b[39;49m] \u001b[39m-\u001b[39;49m \u001b[39m6\u001b[39;49m)]])\n\u001b[0;32m     <a href='vscode-notebook-cell:/c%3A/Users/19282/Desktop/MAE598/MAE598/Homework%205/HW5.ipynb#W2sZmlsZQ%3D%3D?line=24'>25</a>\u001b[0m s_dum \u001b[39m=\u001b[39m t\u001b[39m.\u001b[39mmatmul(\u001b[39m-\u001b[39mt\u001b[39m.\u001b[39mtranspose(g, \u001b[39m0\u001b[39m, \u001b[39m1\u001b[39m),A_inv)\n\u001b[0;32m     <a href='vscode-notebook-cell:/c%3A/Users/19282/Desktop/MAE598/MAE598/Homework%205/HW5.ipynb#W2sZmlsZQ%3D%3D?line=25'>26</a>\u001b[0m s \u001b[39m=\u001b[39m t\u001b[39m.\u001b[39mtranspose(s_dum, \u001b[39m0\u001b[39m, \u001b[39m1\u001b[39m) \u001b[39m#s(k)\u001b[39;00m\n",
      "\u001b[1;31mKeyboardInterrupt\u001b[0m: "
     ]
    }
   ],
   "source": [
    "#pip install qpsolvers[open_source_solvers]\n",
    "\n",
    "import torch as t\n",
    "\n",
    "#Initializing x\n",
    "x = t.tensor([[1.], [1.]]) # x[0] = x1 and x[1] = x2\n",
    "\n",
    "#Initializing mu and W just to get calculation started -- calculated with initial conditions\n",
    "u = t.tensor([[6.], [2.]]) # u[0] = u1 and u[1] = u2\n",
    "W = t.tensor([[2., 0.], [0., (2 + 2*u[0] + 2*u[1])]]) \n",
    "\n",
    "#Calculating Lagrange Gradient\n",
    "gL = t.tensor([[2*x[0]], [2*x[1] -6]]) + t.matmul( t.tensor([[-2., 5.], [2*x[1], (2*x[1] - 2) ]])   , u  )\n",
    "\n",
    "#While loop\n",
    "e = 0.003\n",
    "while t.norm(gL) > e:\n",
    "    #Solve for s(k), u(k+1) using QP\n",
    "    #NOTE: ADD HOW I DID THIS ---------------------------------------------------------------------------------------------------------------------------------------------------- \n",
    "    g = t.tensor([[(x[1]**2 - 2*x[0])], [((x[1] - 1)**2 + 5*x[0] -15)]])\n",
    "    A = t.tensor([[-2., 5.], [2*x[1], (2*x[1] - 2) ]])\n",
    "    A_inv = (-14*x[1] + 4)**(-1) * t.tensor([[(2*x[1] - 2), -5.], [-2*x[1], -2. ]])\n",
    "    fx = t.tensor([[2*x[0]], [(2*x[1] - 6)]])\n",
    "    \n",
    "    s_dum = t.matmul(-t.transpose(g, 0, 1),A_inv)\n",
    "    s = t.transpose(s_dum, 0, 1) #s(k)\n",
    "    \n",
    "    u_first = fx + t.matmul(W, s)\n",
    "    u_dum = t.matmul(-t.transpose(u_first, 0, 1),A_inv)\n",
    "    u = t.transpose(u_dum, 0, 1) #mu(k+1)\n",
    "    \n",
    "    #Line search, alpha(k), merit function and armijo line search\n",
    "    alpha = 1 #for now\n",
    "    \n",
    "    #x(k+1) = x(k) + alpha(k)*s(k)\n",
    "    x_dum = x + alpha*s\n",
    "    x = x_dum\n",
    "    \n",
    "    #W(k+1), BFGS\n",
    "    \n",
    "    \n",
    "    #Calculate Lagrange Gradient\n",
    "    gL = t.tensor([[2*x[0]], [2*x[1] -6]]) + t.matmul( t.tensor([[-2., 5.], [2*x[1], (2*x[1] - 2) ]])   , u  ) #need to update x and mu above\n"
   ]
  },
  {
   "cell_type": "code",
   "execution_count": 14,
   "metadata": {},
   "outputs": [
    {
     "name": "stdout",
     "output_type": "stream",
     "text": [
      "     pcost       dcost       gap    pres   dres   k/t\n",
      " 0:  7.7723e-02 -2.6332e+02  1e+03  3e+00  6e+02  1e+00\n",
      " 1: -5.3899e-01 -1.7199e+01  8e+01  2e-01  4e+01  5e-02\n",
      " 2: -1.0027e+00 -6.5939e+00  3e+01  7e-02  1e+01  2e-02\n",
      " 3: -4.8556e-01 -2.2475e+00  5e+00  2e-02  4e+00  1e-02\n",
      " 4: -3.3584e-01 -1.1589e+00  2e+00  1e-02  2e+00  6e-03\n",
      " 5: -1.7405e-01 -5.6719e-01  9e-01  5e-03  8e-01  3e-03\n",
      " 6: -7.6604e-02 -1.8161e-01  2e-01  1e-03  2e-01  6e-04\n",
      " 7: -4.9651e-02 -9.2194e-02  1e-01  6e-04  9e-02  2e-04\n",
      " 8: -4.4602e-02 -8.1224e-02  1e-01  5e-04  8e-02  2e-04\n",
      " 9: -2.7922e-02 -4.3544e-02  4e-02  2e-04  3e-02  8e-05\n",
      "10: -2.7201e-02 -4.1215e-02  4e-02  2e-04  3e-02  7e-05\n",
      "11: -2.0931e-02 -2.7255e-02  2e-02  8e-05  1e-02  3e-05\n",
      "12: -2.0413e-02 -2.6239e-02  2e-02  8e-05  1e-02  3e-05\n",
      "13: -1.7324e-02 -1.9570e-02  7e-03  3e-05  5e-03  9e-06\n",
      "14: -1.4995e-02 -1.5163e-02  5e-04  2e-06  4e-04  6e-07\n",
      "15: -1.4822e-02 -1.4823e-02  5e-06  2e-08  4e-06  7e-09\n",
      "16: -1.4820e-02 -1.4820e-02  5e-08  2e-10  4e-08  7e-11\n",
      "Optimal solution found.\n",
      "     pcost       dcost       gap    pres   dres   k/t\n",
      " 0:  7.7723e-02 -2.6332e+02  1e+03  3e+00  6e+02  1e+00\n",
      " 1: -5.3899e-01 -1.7199e+01  8e+01  2e-01  4e+01  5e-02\n",
      " 2: -1.0027e+00 -6.5939e+00  3e+01  7e-02  1e+01  2e-02\n",
      " 3: -4.8556e-01 -2.2475e+00  5e+00  2e-02  4e+00  1e-02\n",
      " 4: -3.3584e-01 -1.1589e+00  2e+00  1e-02  2e+00  6e-03\n",
      " 5: -1.7405e-01 -5.6719e-01  9e-01  5e-03  8e-01  3e-03\n",
      " 6: -7.6604e-02 -1.8161e-01  2e-01  1e-03  2e-01  6e-04\n",
      " 7: -4.9651e-02 -9.2194e-02  1e-01  6e-04  9e-02  2e-04\n",
      " 8: -4.4602e-02 -8.1224e-02  1e-01  5e-04  8e-02  2e-04\n",
      " 9: -2.7922e-02 -4.3544e-02  4e-02  2e-04  3e-02  8e-05\n",
      "10: -2.7201e-02 -4.1215e-02  4e-02  2e-04  3e-02  7e-05\n",
      "11: -2.0931e-02 -2.7255e-02  2e-02  8e-05  1e-02  3e-05\n",
      "12: -2.0413e-02 -2.6239e-02  2e-02  8e-05  1e-02  3e-05\n",
      "13: -1.7324e-02 -1.9570e-02  7e-03  3e-05  5e-03  9e-06\n",
      "14: -1.4995e-02 -1.5163e-02  5e-04  2e-06  4e-04  6e-07\n",
      "15: -1.4822e-02 -1.4823e-02  5e-06  2e-08  4e-06  7e-09\n",
      "16: -1.4820e-02 -1.4820e-02  5e-08  2e-10  4e-08  7e-11\n",
      "Optimal solution found.\n"
     ]
    }
   ],
   "source": [
    "from cvxopt import normal, uniform\n",
    "from cvxopt.modeling import variable, dot, op, sum\n",
    "\n",
    "#m, n = 500, 100\n",
    "#A = normal(m,n)\n",
    "#b = uniform(m)\n",
    "#c = normal(n)\n",
    "\n",
    "#x = variable(n)\n",
    "#op(dot(c,x), A*x+sum(abs(x)) <= b).solve()\n",
    "\n",
    "#x2 = variable(n)\n",
    "#y = variable(n)\n",
    "#op(dot(c,x2), [A*x2+sum(y) <= b, -y <= x2, x2 <= y]).solve()\n",
    "\n"
   ]
  },
  {
   "cell_type": "markdown",
   "metadata": {},
   "source": [
    "## Problem 2\n",
    "\n",
    "moon lander"
   ]
  }
 ],
 "metadata": {
  "kernelspec": {
   "display_name": "Python 3.10.6 64-bit",
   "language": "python",
   "name": "python3"
  },
  "language_info": {
   "codemirror_mode": {
    "name": "ipython",
    "version": 3
   },
   "file_extension": ".py",
   "mimetype": "text/x-python",
   "name": "python",
   "nbconvert_exporter": "python",
   "pygments_lexer": "ipython3",
   "version": "3.10.6"
  },
  "orig_nbformat": 4,
  "vscode": {
   "interpreter": {
    "hash": "b2d6e2acd905f85a7325b9d62875216e3aaf7a1996b68e1e27c6b306cb99bfde"
   }
  }
 },
 "nbformat": 4,
 "nbformat_minor": 2
}
