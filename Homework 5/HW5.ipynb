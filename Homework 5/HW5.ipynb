{
 "cells": [
  {
   "cell_type": "markdown",
   "metadata": {},
   "source": [
    "# Homework 5"
   ]
  },
  {
   "cell_type": "markdown",
   "metadata": {},
   "source": [
    "## Problem 1\n",
    "\n",
    "SQP"
   ]
  },
  {
   "cell_type": "code",
   "execution_count": 28,
   "metadata": {},
   "outputs": [
    {
     "ename": "KeyboardInterrupt",
     "evalue": "",
     "output_type": "error",
     "traceback": [
      "\u001b[1;31m---------------------------------------------------------------------------\u001b[0m",
      "\u001b[1;31mKeyboardInterrupt\u001b[0m                         Traceback (most recent call last)",
      "\u001b[1;32mc:\\Users\\19282\\Desktop\\MAE598\\MAE598\\Homework 5\\HW5.ipynb Cell 3\u001b[0m in \u001b[0;36m<cell line: 15>\u001b[1;34m()\u001b[0m\n\u001b[0;32m     <a href='vscode-notebook-cell:/c%3A/Users/19282/Desktop/MAE598/MAE598/Homework%205/HW5.ipynb#W2sZmlsZQ%3D%3D?line=23'>24</a>\u001b[0m x \u001b[39m=\u001b[39m x_dum\n\u001b[0;32m     <a href='vscode-notebook-cell:/c%3A/Users/19282/Desktop/MAE598/MAE598/Homework%205/HW5.ipynb#W2sZmlsZQ%3D%3D?line=25'>26</a>\u001b[0m \u001b[39m#W(k+1), BFGS\u001b[39;00m\n\u001b[0;32m     <a href='vscode-notebook-cell:/c%3A/Users/19282/Desktop/MAE598/MAE598/Homework%205/HW5.ipynb#W2sZmlsZQ%3D%3D?line=26'>27</a>\u001b[0m \n\u001b[0;32m     <a href='vscode-notebook-cell:/c%3A/Users/19282/Desktop/MAE598/MAE598/Homework%205/HW5.ipynb#W2sZmlsZQ%3D%3D?line=27'>28</a>\u001b[0m \n\u001b[0;32m     <a href='vscode-notebook-cell:/c%3A/Users/19282/Desktop/MAE598/MAE598/Homework%205/HW5.ipynb#W2sZmlsZQ%3D%3D?line=28'>29</a>\u001b[0m \u001b[39m#Calculate Lagrange Gradient\u001b[39;00m\n\u001b[1;32m---> <a href='vscode-notebook-cell:/c%3A/Users/19282/Desktop/MAE598/MAE598/Homework%205/HW5.ipynb#W2sZmlsZQ%3D%3D?line=29'>30</a>\u001b[0m gL \u001b[39m=\u001b[39m t\u001b[39m.\u001b[39mtensor([[\u001b[39m2\u001b[39m\u001b[39m*\u001b[39mx[\u001b[39m0\u001b[39m]], [\u001b[39m2\u001b[39m\u001b[39m*\u001b[39mx[\u001b[39m1\u001b[39m] \u001b[39m-\u001b[39m\u001b[39m6\u001b[39m]]) \u001b[39m+\u001b[39m t\u001b[39m.\u001b[39mmatmul( t\u001b[39m.\u001b[39;49mtensor([[\u001b[39m-\u001b[39;49m\u001b[39m2.\u001b[39;49m, \u001b[39m5.\u001b[39;49m], [\u001b[39m2\u001b[39;49m\u001b[39m*\u001b[39;49mx[\u001b[39m1\u001b[39;49m], (\u001b[39m2\u001b[39;49m\u001b[39m*\u001b[39;49mx[\u001b[39m1\u001b[39;49m] \u001b[39m-\u001b[39;49m \u001b[39m2\u001b[39;49m) ]])   , u  )\n",
      "\u001b[1;31mKeyboardInterrupt\u001b[0m: "
     ]
    }
   ],
   "source": [
    "#pip install qpsolvers[open_source_solvers]\n",
    "\n",
    "import torch as t\n",
    "\n",
    "#Initializing x\n",
    "x = t.tensor([[1.], [1.]]) # x[0] = x1 and x[1] = x2\n",
    "\n",
    "#Initializing mu\n",
    "u = t.tensor([[6.], [2.]]) # u[0] = u1 and u[1] = u2\n",
    "\n",
    "#Calculating Lagrange Gradient\n",
    "gL = t.tensor([[2*x[0]], [2*x[1] -6]]) + t.matmul( t.tensor([[-2., 5.], [2*x[1], (2*x[1] - 2) ]])   , u  )\n",
    "\n",
    "e = 0.003\n",
    "while t.norm(gL) > e:\n",
    "    #Solve for s(k), u(k+1) using QP\n",
    "    s = t.tensor([[1.], [1.]]) #for now\n",
    "    \n",
    "    #Line search, alpha(k), merit function and armijo line search\n",
    "    alpha = 1 #for now\n",
    "    \n",
    "    #x(k+1) = x(k) + alpha(k)*s(k)\n",
    "    x_dum = x + alpha*s\n",
    "    x = x_dum\n",
    "    \n",
    "    #W(k+1), BFGS\n",
    "    \n",
    "    \n",
    "    #Calculate Lagrange Gradient\n",
    "    gL = t.tensor([[2*x[0]], [2*x[1] -6]]) + t.matmul( t.tensor([[-2., 5.], [2*x[1], (2*x[1] - 2) ]])   , u  ) #need to update x and mu above\n",
    "\n",
    "    \n",
    "    \n",
    "\n",
    "\n",
    "\n"
   ]
  },
  {
   "cell_type": "markdown",
   "metadata": {},
   "source": [
    "## Problem 2\n",
    "\n",
    "moon lander"
   ]
  }
 ],
 "metadata": {
  "kernelspec": {
   "display_name": "Python 3.10.6 64-bit",
   "language": "python",
   "name": "python3"
  },
  "language_info": {
   "codemirror_mode": {
    "name": "ipython",
    "version": 3
   },
   "file_extension": ".py",
   "mimetype": "text/x-python",
   "name": "python",
   "nbconvert_exporter": "python",
   "pygments_lexer": "ipython3",
   "version": "3.10.6"
  },
  "orig_nbformat": 4,
  "vscode": {
   "interpreter": {
    "hash": "b2d6e2acd905f85a7325b9d62875216e3aaf7a1996b68e1e27c6b306cb99bfde"
   }
  }
 },
 "nbformat": 4,
 "nbformat_minor": 2
}
